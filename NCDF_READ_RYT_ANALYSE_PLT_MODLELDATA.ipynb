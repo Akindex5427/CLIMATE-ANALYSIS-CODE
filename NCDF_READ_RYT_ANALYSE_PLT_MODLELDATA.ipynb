{
 "cells": [
  {
   "cell_type": "code",
   "execution_count": 125,
   "metadata": {},
   "outputs": [],
   "source": [
    "import netCDF4 as nc\n",
    "import numpy as np\n",
    "import scipy as sp\n",
    "import xarray as xr\n",
    "import matplotlib.pyplot as plt\n",
    "import cartopy.crs as ccrs\n",
    "from cartopy import feature as cf\n",
    "from cartopy.mpl.gridliner import LONGITUDE_FORMATTER, LATITUDE_FORMATTER"
   ]
  },
  {
   "cell_type": "code",
   "execution_count": 126,
   "metadata": {},
   "outputs": [],
   "source": [
    "#specify where is the location of the data\n",
    "Path_02 = \"D:\\\\Climate_Tutorial\\\\ERA5 DATASET\\\\\"\n",
    "file_02 = xr.open_dataset(Path_02 + \"pr_Amon_CESM2_ssp585_r4i1p1f1_gn_20150115-21001215_v20200528.nc\")"
   ]
  },
  {
   "cell_type": "code",
   "execution_count": 127,
   "metadata": {},
   "outputs": [
    {
     "data": {
      "text/plain": [
       "<xarray.Dataset>\n",
       "Dimensions:    (lat: 21, lon: 33, nbnd: 2, time: 1032)\n",
       "Coordinates:\n",
       "  * lat        (lat) float64 0.4712 1.414 2.356 3.298 ... 17.43 18.38 19.32\n",
       "  * lon        (lon) float64 -20.0 -18.75 -17.5 -16.25 ... 16.25 17.5 18.75 20.0\n",
       "  * time       (time) object 2015-01-15 12:00:00 ... 2100-12-15 12:00:00\n",
       "Dimensions without coordinates: nbnd\n",
       "Data variables:\n",
       "    pr         (time, lat, lon) float32 ...\n",
       "    time_bnds  (time, nbnd) object ...\n",
       "    lat_bnds   (time, lat, nbnd) float64 ...\n",
       "    lon_bnds   (time, lon, nbnd) float64 ...\n",
       "Attributes:\n",
       "    Conventions:            CF-1.7 CMIP-6.2\n",
       "    activity_id:            ScenarioMIP\n",
       "    branch_method:          standard\n",
       "    branch_time_in_child:   735110.0\n",
       "    branch_time_in_parent:  735110.0\n",
       "    case_id:                1735\n",
       "    cesm_casename:          b.e21.BSSP585cmip6.f09_g17.CMIP6-SSP5-8.5.103\n",
       "    contact:                cesm_cmip6@ucar.edu\n",
       "    creation_date:          2020-05-27T20:55:14Z\n",
       "    data_specs_version:     01.00.31\n",
       "    experiment:             SSP-based RCP scenario with high radiative forcin...\n",
       "    experiment_id:          ssp585\n",
       "    external_variables:     areacella\n",
       "    forcing_index:          1\n",
       "    frequency:              mon\n",
       "    further_info_url:       https://furtherinfo.es-doc.org/CMIP6.NCAR.CESM2.s...\n",
       "    grid:                   native 0.9x1.25 finite volume grid (192x288 latxlon)\n",
       "    grid_label:             gn\n",
       "    initialization_index:   1\n",
       "    institution:            National Center for Atmospheric Research, Climate...\n",
       "    institution_id:         NCAR\n",
       "    license:                CMIP6 model data produced by <The National Center...\n",
       "    mip_era:                CMIP6\n",
       "    model_doi_url:          https://doi.org/10.5065/D67H1H0V\n",
       "    nominal_resolution:     100 km\n",
       "    parent_activity_id:     CMIP\n",
       "    parent_experiment_id:   historical\n",
       "    parent_mip_era:         CMIP6\n",
       "    parent_source_id:       CESM2\n",
       "    parent_time_units:      days since 0001-01-01 00:00:00\n",
       "    parent_variant_label:   r4i1p1f1\n",
       "    physics_index:          1\n",
       "    product:                model-output\n",
       "    realization_index:      4\n",
       "    realm:                  atmos\n",
       "    source:                 CESM2 (2017): atmosphere: CAM6 (0.9x1.25 finite v...\n",
       "    source_id:              CESM2\n",
       "    source_type:            AOGCM BGC AER\n",
       "    sub_experiment:         none\n",
       "    sub_experiment_id:      none\n",
       "    table_id:               Amon\n",
       "    tracking_id:            hdl:21.14100/af147846-667d-479d-a02c-c03009ea1ba9\n",
       "    variable_id:            pr\n",
       "    variant_info:           CMIP6 SSP5-8.5 experiments (2015-2100) with CAM6,...\n",
       "    variant_label:          r4i1p1f1"
      ]
     },
     "execution_count": 127,
     "metadata": {},
     "output_type": "execute_result"
    }
   ],
   "source": [
    "file_02 "
   ]
  },
  {
   "cell_type": "code",
   "execution_count": 128,
   "metadata": {},
   "outputs": [
    {
     "data": {
      "text/plain": [
       "<xarray.IndexVariable 'lon' (lon: 33)>\n",
       "array([-20.  , -18.75, -17.5 , -16.25, -15.  , -13.75, -12.5 , -11.25, -10.  ,\n",
       "        -8.75,  -7.5 ,  -6.25,  -5.  ,  -3.75,  -2.5 ,  -1.25,   0.  ,   1.25,\n",
       "         2.5 ,   3.75,   5.  ,   6.25,   7.5 ,   8.75,  10.  ,  11.25,  12.5 ,\n",
       "        13.75,  15.  ,  16.25,  17.5 ,  18.75,  20.  ])\n",
       "Attributes:\n",
       "    axis:           X\n",
       "    bounds:         lon_bnds\n",
       "    standard_name:  longitude\n",
       "    title:          Longitude\n",
       "    type:           double\n",
       "    units:          degrees_east\n",
       "    valid_max:      360.0\n",
       "    valid_min:      0.0"
      ]
     },
     "execution_count": 128,
     "metadata": {},
     "output_type": "execute_result"
    }
   ],
   "source": [
    "# Define\n",
    "long = file_02.variables[\"lon\"]\n",
    "long"
   ]
  },
  {
   "cell_type": "code",
   "execution_count": 129,
   "metadata": {},
   "outputs": [
    {
     "data": {
      "text/plain": [
       "<xarray.IndexVariable 'lat' (lat: 21)>\n",
       "array([ 0.471204,  1.413613,  2.356021,  3.298429,  4.240838,  5.183246,\n",
       "        6.125654,  7.068063,  8.010471,  8.95288 ,  9.895288, 10.837696,\n",
       "       11.780105, 12.722513, 13.664921, 14.60733 , 15.549738, 16.492147,\n",
       "       17.434555, 18.376963, 19.319372])\n",
       "Attributes:\n",
       "    axis:           Y\n",
       "    bounds:         lat_bnds\n",
       "    standard_name:  latitude\n",
       "    title:          Latitude\n",
       "    type:           double\n",
       "    units:          degrees_north\n",
       "    valid_max:      90.0\n",
       "    valid_min:      -90.0"
      ]
     },
     "execution_count": 129,
     "metadata": {},
     "output_type": "execute_result"
    }
   ],
   "source": [
    "lat = file_02.variables[\"lat\"]\n",
    "lat"
   ]
  },
  {
   "cell_type": "code",
   "execution_count": 130,
   "metadata": {},
   "outputs": [
    {
     "data": {
      "text/plain": [
       "<xarray.Variable (time: 13, lat: 15, lon: 33)>\n",
       "array([[[6.749429e+00, 5.316828e+00, ..., 9.388525e-01, 6.895674e-01],\n",
       "        [7.356905e+00, 4.721786e+00, ..., 5.105123e-01, 5.450081e-01],\n",
       "        ...,\n",
       "        [8.461583e-01, 8.265521e-01, ..., 2.086446e-02, 1.197630e-02],\n",
       "        [5.503306e-01, 5.261597e-01, ..., 5.416601e-02, 2.753714e-02]],\n",
       "\n",
       "       [[4.399963e+00, 3.820225e+00, ..., 6.316966e-01, 7.509073e-01],\n",
       "        [2.695938e+00, 2.814022e+00, ..., 6.254336e-01, 6.450540e-01],\n",
       "        ...,\n",
       "        [3.038128e-01, 2.651051e-01, ..., 1.074390e-05, 6.366287e-07],\n",
       "        [3.002698e-01, 3.318119e-01, ..., 3.824252e-07, 3.031477e-08]],\n",
       "\n",
       "       ...,\n",
       "\n",
       "       [[3.787008e+00, 3.807272e+00, ..., 1.573226e+00, 1.266500e+00],\n",
       "        [3.628892e+00, 3.676938e+00, ..., 7.634000e-01, 7.632817e-01],\n",
       "        ...,\n",
       "        [2.383722e-01, 1.295866e-01, ..., 1.609307e-09, 1.459729e-09],\n",
       "        [6.359116e-01, 3.931971e-01, ..., 3.771957e-09, 2.248086e-07]],\n",
       "\n",
       "       [[6.992527e+00, 6.188712e+00, ..., 1.267487e-02, 5.681669e-02],\n",
       "        [4.163562e+00, 3.454169e+00, ..., 3.205670e-03, 2.069814e-02],\n",
       "        ...,\n",
       "        [2.797185e-01, 2.628529e-01, ..., 2.395884e-09, 2.334354e-05],\n",
       "        [2.049067e-01, 1.861029e-01, ..., 2.694693e-09, 3.197026e-09]]])"
      ]
     },
     "execution_count": 130,
     "metadata": {},
     "output_type": "execute_result"
    }
   ],
   "source": [
    "# Select a certain long and lat data to display with the index method and convert to mm/day with (*86400)\n",
    "pr = file_02.variables[\"pr\"][0:13, -18:18]\n",
    "pr = pr*86400\n",
    "pr"
   ]
  },
  {
   "cell_type": "code",
   "execution_count": 131,
   "metadata": {},
   "outputs": [
    {
     "data": {
      "text/plain": [
       "<xarray.Variable (time: 1032, lat: 21, lon: 33)>\n",
       "array([[[5.086107e+00, 5.187209e+00, ..., 3.563350e+00, 2.590129e+00],\n",
       "        [5.274978e+00, 4.881868e+00, ..., 2.544644e+00, 1.997074e+00],\n",
       "        ...,\n",
       "        [1.256675e-01, 1.427308e-01, ..., 6.801501e-02, 6.608397e-02],\n",
       "        [4.618290e-02, 5.042861e-02, ..., 4.816851e-02, 4.789377e-02]],\n",
       "\n",
       "       [[4.217780e+00, 3.641979e+00, ..., 2.951171e+00, 2.747040e+00],\n",
       "        [4.122398e+00, 3.939583e+00, ..., 2.184996e+00, 2.446800e+00],\n",
       "        ...,\n",
       "        [1.579768e-01, 3.177606e-01, ..., 1.815361e-03, 1.433238e-03],\n",
       "        [1.169260e-01, 2.353576e-01, ..., 8.550871e-04, 2.563743e-03]],\n",
       "\n",
       "       ...,\n",
       "\n",
       "       [[4.448471e+00, 4.218024e+00, ..., 7.811518e+00, 5.798068e+00],\n",
       "        [5.391063e+00, 5.208926e+00, ..., 7.096144e+00, 5.936745e+00],\n",
       "        ...,\n",
       "        [3.191798e-01, 5.623574e-01, ..., 1.242087e-07, 2.651017e-07],\n",
       "        [1.308765e-01, 3.761233e-01, ..., 1.819554e-08, 3.222610e-08]],\n",
       "\n",
       "       [[4.895537e+00, 5.232000e+00, ..., 6.689201e+00, 6.644400e+00],\n",
       "        [4.761469e+00, 5.634329e+00, ..., 5.891626e+00, 5.024945e+00],\n",
       "        ...,\n",
       "        [6.456283e-02, 9.740100e-02, ..., 3.943010e-03, 3.052010e-03],\n",
       "        [4.790157e-02, 2.323163e-02, ..., 3.329612e-02, 1.872114e-02]]])"
      ]
     },
     "execution_count": 131,
     "metadata": {},
     "output_type": "execute_result"
    }
   ],
   "source": [
    "# Select a certain long and lat data to display with the select method and convert to mm/day with (*86400)\n",
    "pr = file_02[\"pr\"].sel(lat=np.arange(0,19,1),lon=np.arange(-20,20,1), method=\"nearest\")\n",
    "pr = file_02.variables[\"pr\"][:]\n",
    "pr = pr*86400\n",
    "pr"
   ]
  },
  {
   "cell_type": "code",
   "execution_count": 132,
   "metadata": {},
   "outputs": [],
   "source": [
    "pptn = pptn*86400\n",
    "long = file_02.variables[\"lon\"]\n",
    "lat = file_02.variables[\"lat\"]\n",
    "pptn = file_02.variables[\"pr\"][:]\n",
    "pptn2 = file_02[\"pr\"].sel(lat=np.arange(0,19,1), method = \"nearest\")"
   ]
  },
  {
   "cell_type": "code",
   "execution_count": 133,
   "metadata": {},
   "outputs": [
    {
     "data": {
      "text/plain": [
       "<xarray.DataArray 'pr' (time: 1032, lat: 19, lon: 33)>\n",
       "[647064 values with dtype=float32]\n",
       "Coordinates:\n",
       "  * lat      (lat) float64 0.4712 1.414 2.356 3.298 ... 14.61 15.55 17.43 18.38\n",
       "  * lon      (lon) float64 -20.0 -18.75 -17.5 -16.25 ... 16.25 17.5 18.75 20.0\n",
       "  * time     (time) object 2015-01-15 12:00:00 ... 2100-12-15 12:00:00\n",
       "Attributes:\n",
       "    cell_measures:  area: areacella\n",
       "    cell_methods:   area: time: mean\n",
       "    comment:        chunits( ((1000 * PRECT)), units=\"kg m-2 s-1\")\n",
       "    description:    at surface; includes both liquid and solid phases from al...\n",
       "    frequency:      mon\n",
       "    id:             pr\n",
       "    long_name:      Precipitation\n",
       "    mipTable:       Amon\n",
       "    out_name:       pr\n",
       "    prov:           Amon ((isd.003))\n",
       "    realm:          atmos\n",
       "    standard_name:  precipitation_flux\n",
       "    time:           time\n",
       "    time_label:     time-mean\n",
       "    time_title:     Temporal mean\n",
       "    title:          Precipitation\n",
       "    type:           real\n",
       "    units:          kg m-2 s-1\n",
       "    variable_id:    pr"
      ]
     },
     "execution_count": 133,
     "metadata": {},
     "output_type": "execute_result"
    }
   ],
   "source": [
    "pptn2"
   ]
  },
  {
   "cell_type": "code",
   "execution_count": null,
   "metadata": {},
   "outputs": [],
   "source": []
  },
  {
   "cell_type": "code",
   "execution_count": 135,
   "metadata": {},
   "outputs": [
    {
     "data": {
      "text/plain": [
       "<matplotlib.axes._axes.Axes at 0xff3b54be48>"
      ]
     },
     "execution_count": 135,
     "metadata": {},
     "output_type": "execute_result"
    },
    {
     "data": {
      "image/png": "[encoded data removed]",
      "text/plain": [
       "<Figure size 500x300 with 1 Axes>"
      ]
     },
     "metadata": {
      "needs_background": "light"
     },
     "output_type": "display_data"
    }
   ],
   "source": [
    "fig = plt.figure(figsize=(5,3), dpi=100)\n",
    "ax = fig.add_axes([0.1,0.1,0.8,0.9])\n",
    "\n",
    "file_03 = file_02.to_dataframe()\n",
    "file_03.pr.plot(kind = \"hist\", bins = 50, color = \"red\")\n"
   ]
  },
  {
   "cell_type": "code",
   "execution_count": null,
   "metadata": {},
   "outputs": [],
   "source": []
  },
  {
   "cell_type": "code",
   "execution_count": 111,
   "metadata": {},
   "outputs": [
    {
     "data": {
      "text/plain": [
       "<matplotlib.collections.QuadMesh at 0xff3a6b4e80>"
      ]
     },
     "execution_count": 111,
     "metadata": {},
     "output_type": "execute_result"
    },
    {
     "data": {
      "image/png": "[encoded data removed]",
      "text/plain": [
       "<Figure size 432x288 with 2 Axes>"
      ]
     },
     "metadata": {
      "needs_background": "light"
     },
     "output_type": "display_data"
    }
   ],
   "source": [
    "pptn2.isel(time=0).plot(robust=True)"
   ]
  },
  {
   "cell_type": "code",
   "execution_count": null,
   "metadata": {},
   "outputs": [],
   "source": []
  },
  {
   "cell_type": "code",
   "execution_count": null,
   "metadata": {},
   "outputs": [],
   "source": []
  }
 ],
 "metadata": {
  "kernelspec": {
   "display_name": "Python 3",
   "language": "python",
   "name": "python3"
  },
  "language_info": {
   "codemirror_mode": {
    "name": "ipython",
    "version": 3
   },
   "file_extension": ".py",
   "mimetype": "text/x-python",
   "name": "python",
   "nbconvert_exporter": "python",
   "pygments_lexer": "ipython3",
   "version": "3.7.3"
  }
 },
 "nbformat": 4,
 "nbformat_minor": 2
}
